{
 "cells": [
  {
   "cell_type": "code",
   "execution_count": 1,
   "metadata": {},
   "outputs": [
    {
     "name": "stdout",
     "output_type": "stream",
     "text": [
      "Welcome to\n",
      "      ____              __\n",
      "     / __/__  ___ _____/ /__\n",
      "    _\\ \\/ _ \\/ _ `/ __/  '_/\n",
      "   /__ / .__/\\_,_/_/ /_/\\_\\   version 2.4.6\n",
      "      /_/\n",
      "\n",
      "Using Python version 3.6.7 (default, Oct 22 2018 11:32:17)\n",
      "SparkSession available as 'spark'.\n"
     ]
    }
   ],
   "source": [
    "# coding: UTF-8\n",
    "\n",
    "import os\n",
    "import sys\n",
    "spark_home = os.environ.get('SPARK_HOME', None)\n",
    "sys.path.insert(0, \"/opt/spark/python\")\n",
    "sys.path.insert(0, \"/opt/spark/python/lib/py4j-0.10.7-src.zip\")\n",
    "exec(open(os.path.join(\"/opt/spark/python/pyspark/shell.py\")).read())"
   ]
  },
  {
   "cell_type": "code",
   "execution_count": 2,
   "metadata": {},
   "outputs": [
    {
     "data": {
      "text/html": [
       "\n",
       "        <div>\n",
       "            <p><b>SparkContext</b></p>\n",
       "\n",
       "            <p><a href=\"http://192.168.11.9:4040\">Spark UI</a></p>\n",
       "\n",
       "            <dl>\n",
       "              <dt>Version</dt>\n",
       "                <dd><code>v2.4.6</code></dd>\n",
       "              <dt>Master</dt>\n",
       "                <dd><code>spark://192.168.11.9:7077</code></dd>\n",
       "              <dt>AppName</dt>\n",
       "                <dd><code>pyspark-shell</code></dd>\n",
       "            </dl>\n",
       "        </div>\n",
       "        "
      ],
      "text/plain": [
       "<SparkContext master=spark://192.168.11.9:7077 appName=pyspark-shell>"
      ]
     },
     "execution_count": 2,
     "metadata": {},
     "output_type": "execute_result"
    }
   ],
   "source": [
    "sc"
   ]
  },
  {
   "cell_type": "code",
   "execution_count": 3,
   "metadata": {},
   "outputs": [],
   "source": [
    "spark = SparkSession.builder.getOrCreate()"
   ]
  },
  {
   "cell_type": "code",
   "execution_count": 5,
   "metadata": {},
   "outputs": [],
   "source": [
    "import json\n",
    "\n",
    "base_meter  = spark.read.csv(\"/home/okano/pyspark_test/switch-bot-data/*.csv\",header=True,inferSchema=True)"
   ]
  },
  {
   "cell_type": "code",
   "execution_count": 101,
   "metadata": {},
   "outputs": [],
   "source": [
    "base_meter.registerTempTable(\"meter\")"
   ]
  },
  {
   "cell_type": "code",
   "execution_count": 102,
   "metadata": {},
   "outputs": [
    {
     "name": "stdout",
     "output_type": "stream",
     "text": [
      "root\n",
      " |-- exec_time: timestamp (nullable = true)\n",
      " |-- device_name: string (nullable = true)\n",
      " |-- temperature: double (nullable = true)\n",
      " |-- humidity: integer (nullable = true)\n",
      "\n"
     ]
    }
   ],
   "source": [
    "base_meter.printSchema()"
   ]
  },
  {
   "cell_type": "code",
   "execution_count": 103,
   "metadata": {},
   "outputs": [
    {
     "name": "stdout",
     "output_type": "stream",
     "text": [
      "+-------------------+-----------+-----------+--------+\n",
      "|          exec_time|device_name|temperature|humidity|\n",
      "+-------------------+-----------+-----------+--------+\n",
      "|2022-01-26 00:00:06| north_room|       16.7|      45|\n",
      "|2022-01-26 00:00:06| south_room|       10.5|      59|\n",
      "|2022-01-26 00:06:06| north_room|       16.9|      45|\n",
      "|2022-01-26 00:06:06| south_room|       10.5|      59|\n",
      "|2022-01-26 00:12:06| north_room|       17.0|      45|\n",
      "+-------------------+-----------+-----------+--------+\n",
      "only showing top 5 rows\n",
      "\n"
     ]
    }
   ],
   "source": [
    "base_meter.show(5)"
   ]
  },
  {
   "cell_type": "code",
   "execution_count": 104,
   "metadata": {},
   "outputs": [
    {
     "name": "stdout",
     "output_type": "stream",
     "text": [
      "+-----------+-------------------+----------+-------------+-----------+\n",
      "|device_name|          exec_time|      date|    date_hour|temperature|\n",
      "+-----------+-------------------+----------+-------------+-----------+\n",
      "| north_room|2022-01-26 00:00:06|2022-01-26|2022-01-26 00|       16.7|\n",
      "| south_room|2022-01-26 00:00:06|2022-01-26|2022-01-26 00|       10.5|\n",
      "| north_room|2022-01-26 00:06:06|2022-01-26|2022-01-26 00|       16.9|\n",
      "| south_room|2022-01-26 00:06:06|2022-01-26|2022-01-26 00|       10.5|\n",
      "| north_room|2022-01-26 00:12:06|2022-01-26|2022-01-26 00|       17.0|\n",
      "+-----------+-------------------+----------+-------------+-----------+\n",
      "only showing top 5 rows\n",
      "\n"
     ]
    }
   ],
   "source": [
    "from pyspark.sql.functions import date_format\n",
    "\n",
    "spark.sql(\"\\\n",
    "    select device_name,exec_time,date_format(exec_time,'yyyy-MM-dd') as date, \\\n",
    "        date_format(exec_time,'yyyy-MM-dd HH') as date_hour, \\\n",
    "        temperature \\\n",
    "    from meter \\\n",
    "\").registerTempTable(\"temperature\")\n",
    "\n",
    "spark.sql(\"select * from temperature\").show(5)"
   ]
  },
  {
   "cell_type": "code",
   "execution_count": 105,
   "metadata": {},
   "outputs": [],
   "source": [
    "avg_df= spark.sql(\" \\\n",
    "    select date, date_hour, \\\n",
    "      avg( case when device_name = 'north_room' then temperature end) as north_temp, \\\n",
    "      avg( case when device_name = 'south_room' then temperature end) as south_temp \\\n",
    "    from temperature \\\n",
    "    group by date,date_hour \\\n",
    "    order by date_hour \\\n",
    "\")"
   ]
  },
  {
   "cell_type": "code",
   "execution_count": 106,
   "metadata": {},
   "outputs": [
    {
     "data": {
      "text/plain": [
       "array([<matplotlib.axes._subplots.AxesSubplot object at 0x7fe9667d7048>,\n",
       "       <matplotlib.axes._subplots.AxesSubplot object at 0x7fe9667b6358>],\n",
       "      dtype=object)"
      ]
     },
     "execution_count": 106,
     "metadata": {},
     "output_type": "execute_result"
    },
    {
     "data": {
      "image/png": "[encoded data removed]",
      "text/plain": [
       "<Figure size 432x288 with 2 Axes>"
      ]
     },
     "metadata": {
      "needs_background": "light"
     },
     "output_type": "display_data"
    }
   ],
   "source": [
    "%matplotlib inline\n",
    "pd_avg_df = avg_df.filter(\"date >= '2022-02-07' AND date <= '2022-02-08'\").toPandas()\n",
    "pd_avg_df.plot.line(x='date_hour',subplots=True)"
   ]
  },
  {
   "cell_type": "code",
   "execution_count": 107,
   "metadata": {},
   "outputs": [
    {
     "data": {
      "text/plain": [
       "200"
      ]
     },
     "execution_count": 107,
     "metadata": {},
     "output_type": "execute_result"
    }
   ],
   "source": [
    "avg_df.rdd.getNumPartitions()"
   ]
  }
 ],
 "metadata": {
  "interpreter": {
   "hash": "31f2aee4e71d21fbe5cf8b01ff0e069b9275f58929596ceb00d14d90e3e16cd6"
  },
  "kernelspec": {
   "display_name": "Python 3.6.7 64-bit",
   "language": "python",
   "name": "python3"
  },
  "language_info": {
   "codemirror_mode": {
    "name": "ipython",
    "version": 3
   },
   "file_extension": ".py",
   "mimetype": "text/x-python",
   "name": "python",
   "nbconvert_exporter": "python",
   "pygments_lexer": "ipython3",
   "version": "3.6.7"
  },
  "orig_nbformat": 4
 },
 "nbformat": 4,
 "nbformat_minor": 2
}
